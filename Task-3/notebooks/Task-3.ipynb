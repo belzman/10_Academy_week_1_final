{
 "cells": [
  {
   "cell_type": "code",
   "execution_count": 1,
   "id": "34a8005b",
   "metadata": {},
   "outputs": [],
   "source": [
    "import pandas as pd\n",
    "import numpy as np\n",
    "import seaborn as sns\n",
    "import matplotlib.pyplot as plt"
   ]
  },
  {
   "cell_type": "code",
   "execution_count": 2,
   "id": "1e575cd0",
   "metadata": {},
   "outputs": [],
   "source": [
    "dataset = pd.read_csv('D:/10 Academy/Week1/Data/yfinance_data/Concatenated_Data.csv')\n",
    "dataset1= pd.read_csv('D:/10 Academy/Week1/Data/labeled_and_processed_dataset.csv')"
   ]
  },
  {
   "cell_type": "code",
   "execution_count": 3,
   "id": "5e16d8f4",
   "metadata": {},
   "outputs": [
    {
     "name": "stdout",
     "output_type": "stream",
     "text": [
      "Shape of dataset1: (45428, 10)\n",
      "Shape of dataset2: (1407327, 13)\n"
     ]
    }
   ],
   "source": [
    "print(\"Shape of dataset1:\", dataset.shape)\n",
    "print(\"Shape of dataset2:\", dataset1.shape)"
   ]
  },
  {
   "cell_type": "code",
   "execution_count": 4,
   "id": "7ccfed80",
   "metadata": {},
   "outputs": [],
   "source": [
    "dataset1['date'] = pd.to_datetime(dataset1['date']).dt.date\n",
    "dataset1.rename(columns={'date': 'Date'}, inplace=True)"
   ]
  },
  {
   "cell_type": "code",
   "execution_count": 5,
   "id": "6646681e",
   "metadata": {},
   "outputs": [],
   "source": [
    "dataset['Date'] = pd.to_datetime(dataset['Date'])"
   ]
  },
  {
   "cell_type": "code",
   "execution_count": 6,
   "id": "8a9dea88",
   "metadata": {},
   "outputs": [],
   "source": [
    "dataset = dataset[['Date', 'Close', 'stock']]\n",
    "dataset1 = dataset1[['Date', 'headline', 'sentiment_label']]"
   ]
  },
  {
   "cell_type": "code",
   "execution_count": 7,
   "id": "75480edb",
   "metadata": {},
   "outputs": [],
   "source": [
    "dataset['Date'] = pd.to_datetime(dataset['Date'])\n",
    "dataset1['Date'] = pd.to_datetime(dataset1['Date'])"
   ]
  },
  {
   "cell_type": "code",
   "execution_count": 8,
   "id": "e314fca5",
   "metadata": {},
   "outputs": [],
   "source": [
    "# Join datasets on 'Date' column\n",
    "merged_df = pd.merge(dataset1, dataset, on='Date', how='inner')"
   ]
  },
  {
   "cell_type": "code",
   "execution_count": 9,
   "id": "9f2adbd1",
   "metadata": {},
   "outputs": [],
   "source": [
    "merged_df.to_csv('D:/10 Academy/Week1/Data/merged.csv', index=False)"
   ]
  },
  {
   "cell_type": "code",
   "execution_count": 10,
   "id": "d889fede",
   "metadata": {},
   "outputs": [],
   "source": [
    "dataset = pd.read_csv('D:/10 Academy/Week1/Data/merged.csv')"
   ]
  },
  {
   "cell_type": "code",
   "execution_count": 11,
   "id": "78baf1ca",
   "metadata": {},
   "outputs": [
    {
     "data": {
      "text/plain": [
       "(9287932, 5)"
      ]
     },
     "execution_count": 11,
     "metadata": {},
     "output_type": "execute_result"
    }
   ],
   "source": [
    "dataset.shape"
   ]
  },
  {
   "cell_type": "code",
   "execution_count": 12,
   "id": "822e552c",
   "metadata": {},
   "outputs": [
    {
     "data": {
      "text/plain": [
       "Index(['Date', 'headline', 'sentiment_label', 'Close', 'stock'], dtype='object')"
      ]
     },
     "execution_count": 12,
     "metadata": {},
     "output_type": "execute_result"
    }
   ],
   "source": [
    "dataset.columns"
   ]
  },
  {
   "cell_type": "code",
   "execution_count": 13,
   "id": "5f83579e",
   "metadata": {},
   "outputs": [],
   "source": [
    "#Calculate Daily Stock Returns  sentiment_label"
   ]
  },
  {
   "cell_type": "code",
   "execution_count": 14,
   "id": "473d27c0",
   "metadata": {},
   "outputs": [
    {
     "name": "stdout",
     "output_type": "stream",
     "text": [
      "           Date   stock       Close sentiment_label  Daily_Return\n",
      "7    2020-06-05   Apple   82.875000         Neutral           0.0\n",
      "8    2020-06-05    Amzn  124.150002         Neutral           0.0\n",
      "9    2020-06-05  Google   71.919502         Neutral           0.0\n",
      "10   2020-06-05    Meta  230.770004         Neutral           0.0\n",
      "11   2020-06-05    Msft  187.199997         Neutral           0.0\n",
      "..          ...     ...         ...             ...           ...\n",
      "102  2020-06-05    Msft  187.199997         Neutral           0.0\n",
      "103  2020-06-05  Nvidia    8.920000         Neutral           0.0\n",
      "104  2020-06-05    Tsla   59.043999         Neutral           0.0\n",
      "105  2020-06-05   Apple   82.875000         Neutral           0.0\n",
      "106  2020-06-05    Amzn  124.150002         Neutral           0.0\n",
      "\n",
      "[100 rows x 5 columns]\n"
     ]
    }
   ],
   "source": [
    "dataset['Daily_Return'] = dataset.groupby('stock')['Close'].pct_change() * 100\n",
    "dataset = dataset.dropna(subset=['Daily_Return'])\n",
    "print(dataset[['Date', 'stock', 'Close', 'sentiment_label','Daily_Return']].head(100))"
   ]
  },
  {
   "cell_type": "code",
   "execution_count": 15,
   "id": "07fbf493",
   "metadata": {},
   "outputs": [],
   "source": [
    "#Aggregate Sentiments"
   ]
  },
  {
   "cell_type": "code",
   "execution_count": 16,
   "id": "efe6e9a2",
   "metadata": {},
   "outputs": [
    {
     "name": "stdout",
     "output_type": "stream",
     "text": [
      "          Date   stock  Sentiment_Score\n",
      "0   2009-04-27    Amzn              0.0\n",
      "1   2009-04-27   Apple              0.0\n",
      "2   2009-04-27  Google              0.0\n",
      "3   2009-04-27    Msft              0.0\n",
      "4   2009-04-27  Nvidia              0.0\n",
      "..         ...     ...              ...\n",
      "95  2009-07-15    Amzn              0.0\n",
      "96  2009-07-15   Apple              0.0\n",
      "97  2009-07-15  Google              0.0\n",
      "98  2009-07-15    Msft              0.0\n",
      "99  2009-07-15  Nvidia              0.0\n",
      "\n",
      "[100 rows x 3 columns]\n"
     ]
    }
   ],
   "source": [
    "sentiment_mapping = {'Neutral': 0, 'Positive': 1, 'Negative': -1}\n",
    "dataset['Sentiment_Score'] = dataset['sentiment_label'].map(sentiment_mapping)\n",
    "dataset = dataset.dropna(subset=['Sentiment_Score'])\n",
    "daily_sentiment = dataset.groupby(['Date', 'stock'])['Sentiment_Score'].mean().reset_index()\n",
    "print(daily_sentiment.head(100))\n"
   ]
  },
  {
   "cell_type": "code",
   "execution_count": 17,
   "id": "a3bd1a72",
   "metadata": {},
   "outputs": [
    {
     "name": "stdout",
     "output_type": "stream",
     "text": [
      "          Date   stock  Sentiment_Score\n",
      "0   2009-04-27    Amzn              0.0\n",
      "1   2009-04-27   Apple              0.0\n",
      "2   2009-04-27  Google              0.0\n",
      "3   2009-04-27    Msft              0.0\n",
      "4   2009-04-27  Nvidia              0.0\n",
      "..         ...     ...              ...\n",
      "95  2009-07-15    Amzn              0.0\n",
      "96  2009-07-15   Apple              0.0\n",
      "97  2009-07-15  Google              0.0\n",
      "98  2009-07-15    Msft              0.0\n",
      "99  2009-07-15  Nvidia              0.0\n",
      "\n",
      "[100 rows x 3 columns]\n"
     ]
    }
   ],
   "source": [
    "print(daily_sentiment.head(100))"
   ]
  },
  {
   "cell_type": "code",
   "execution_count": 18,
   "id": "a4dee5f7",
   "metadata": {},
   "outputs": [
    {
     "name": "stdout",
     "output_type": "stream",
     "text": [
      "         Date   stock  Daily_Return  Sentiment_Score\n",
      "0  2020-06-05   Apple           0.0         0.625134\n",
      "1  2020-06-05    Amzn           0.0         0.625134\n",
      "2  2020-06-05  Google           0.0         0.625134\n",
      "3  2020-06-05    Meta           0.0         0.625134\n",
      "4  2020-06-05    Msft           0.0         0.625134\n"
     ]
    }
   ],
   "source": [
    "daily_data = dataset[['Date', 'stock', 'Daily_Return']].dropna().drop_duplicates()\n",
    "merged_data = pd.merge(daily_data, daily_sentiment, on=['Date', 'stock'])\n",
    "print(merged_data.head())"
   ]
  },
  {
   "cell_type": "code",
   "execution_count": 19,
   "id": "ace7b72f",
   "metadata": {},
   "outputs": [
    {
     "name": "stdout",
     "output_type": "stream",
     "text": [
      "          Date   stock  Daily_Return  Sentiment_Score\n",
      "0   2020-06-05   Apple      0.000000         0.625134\n",
      "1   2020-06-05    Amzn      0.000000         0.625134\n",
      "2   2020-06-05  Google      0.000000         0.625134\n",
      "3   2020-06-05    Meta      0.000000         0.625134\n",
      "4   2020-06-05    Msft      0.000000         0.625134\n",
      "..         ...     ...           ...              ...\n",
      "95  2020-05-08  Google      1.105459         0.140237\n",
      "96  2020-05-08  Google      0.000000         0.140237\n",
      "97  2020-05-08    Meta      0.697079         0.140237\n",
      "98  2020-05-08    Meta      0.000000         0.140237\n",
      "99  2020-05-08    Msft      0.829869         0.140237\n",
      "\n",
      "[100 rows x 4 columns]\n"
     ]
    }
   ],
   "source": [
    "print(merged_data.head(100))"
   ]
  },
  {
   "cell_type": "code",
   "execution_count": 20,
   "id": "a50791e7",
   "metadata": {},
   "outputs": [],
   "source": [
    "#Calculate Correlation"
   ]
  },
  {
   "cell_type": "code",
   "execution_count": 22,
   "id": "2bca472a",
   "metadata": {},
   "outputs": [
    {
     "name": "stdout",
     "output_type": "stream",
     "text": [
      "stock\n",
      "Amzn     -0.006555\n",
      "Apple    -0.005868\n",
      "Google   -0.010844\n",
      "Meta     -0.033162\n",
      "Msft     -0.026461\n",
      "Nvidia   -0.017330\n",
      "Tsla     -0.008083\n",
      "dtype: float64\n"
     ]
    }
   ],
   "source": [
    "correlation = merged_data.groupby('stock').apply(\n",
    "    lambda x: x[['Sentiment_Score', 'Daily_Return']].corr().iloc[0, 1]\n",
    ")\n",
    "\n",
    "print(correlation)"
   ]
  },
  {
   "cell_type": "code",
   "execution_count": 23,
   "id": "db97f872",
   "metadata": {},
   "outputs": [
    {
     "name": "stdout",
     "output_type": "stream",
     "text": [
      "Pearson correlation: -0.011452899433269534\n"
     ]
    }
   ],
   "source": [
    "correlation = merged_data['Daily_Return'].corr(merged_data['Sentiment_Score'])\n",
    "print(\"Pearson correlation:\", correlation)"
   ]
  },
  {
   "cell_type": "code",
   "execution_count": 24,
   "id": "4e2e0e99",
   "metadata": {},
   "outputs": [
    {
     "data": {
      "image/png": "[encoded data removed]",
      "text/plain": [
       "<Figure size 640x480 with 2 Axes>"
      ]
     },
     "metadata": {},
     "output_type": "display_data"
    }
   ],
   "source": [
    "# Create a heatmap\n",
    "sns.heatmap(merged_data[['Daily_Return', 'Sentiment_Score']].corr(), annot=True, cmap='viridis')\n",
    "plt.title('Correlation Heatmap')\n",
    "plt.show()"
   ]
  },
  {
   "cell_type": "code",
   "execution_count": 25,
   "id": "4a43c8b2",
   "metadata": {},
   "outputs": [
    {
     "data": {
      "image/png": "[encoded data removed]",
      "text/plain": [
       "<Figure size 800x600 with 1 Axes>"
      ]
     },
     "metadata": {},
     "output_type": "display_data"
    }
   ],
   "source": [
    "# Select the columns\n",
    "daily_return = merged_data['Daily_Return']\n",
    "sentiment_score = merged_data['Sentiment_Score']\n",
    "plt.scatter(sentiment_score, daily_return)\n",
    "plt.xlabel('Sentiment Score')\n",
    "plt.ylabel('Daily Return')\n",
    "plt.title('Daily Return vs. Sentiment Score')\n",
    "plt.grid(True)\n",
    "plt.show()"
   ]
  },
  {
   "cell_type": "code",
   "execution_count": null,
   "id": "ddbd5b14",
   "metadata": {},
   "outputs": [],
   "source": []
  }
 ],
 "metadata": {
  "kernelspec": {
   "display_name": "Python 3 (ipykernel)",
   "language": "python",
   "name": "python3"
  },
  "language_info": {
   "codemirror_mode": {
    "name": "ipython",
    "version": 3
   },
   "file_extension": ".py",
   "mimetype": "text/x-python",
   "name": "python",
   "nbconvert_exporter": "python",
   "pygments_lexer": "ipython3",
   "version": "3.11.5"
  }
 },
 "nbformat": 4,
 "nbformat_minor": 5
}
